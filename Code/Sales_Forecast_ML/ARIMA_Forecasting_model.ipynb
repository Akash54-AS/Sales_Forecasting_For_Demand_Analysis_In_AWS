{
 "cells": [
  {
   "cell_type": "code",
   "execution_count": null,
   "id": "57abc55d-d670-4101-b005-5741b45e0d4f",
   "metadata": {
    "execution": {
     "iopub.execute_input": "2023-07-12T16:57:43.495380Z",
     "iopub.status.busy": "2023-07-12T16:57:43.495067Z",
     "iopub.status.idle": "2023-07-12T16:58:45.585342Z",
     "shell.execute_reply": "2023-07-12T16:58:45.584269Z",
     "shell.execute_reply.started": "2023-07-12T16:57:43.495350Z"
    },
    "tags": []
   },
   "outputs": [],
   "source": [
    "sc.install_pypi_package(\"statsmodels\")"
   ]
  },
  {
   "cell_type": "code",
   "execution_count": null,
   "id": "48cfa1bb-7f53-4246-a08d-572d87948a13",
   "metadata": {
    "execution": {
     "iopub.execute_input": "2023-07-12T16:58:45.587548Z",
     "iopub.status.busy": "2023-07-12T16:58:45.587150Z",
     "iopub.status.idle": "2023-07-12T16:58:50.921010Z",
     "shell.execute_reply": "2023-07-12T16:58:50.920281Z",
     "shell.execute_reply.started": "2023-07-12T16:58:45.587512Z"
    }
   },
   "outputs": [],
   "source": [
    "sc.install_pypi_package(\"PyArrow==1.0.0\")"
   ]
  },
  {
   "cell_type": "code",
   "execution_count": null,
   "id": "c5404913-332c-4efa-9be9-abeb7d626b2f",
   "metadata": {
    "execution": {
     "iopub.execute_input": "2023-07-12T16:58:50.922818Z",
     "iopub.status.busy": "2023-07-12T16:58:50.922547Z",
     "iopub.status.idle": "2023-07-12T16:58:51.684159Z",
     "shell.execute_reply": "2023-07-12T16:58:51.683463Z",
     "shell.execute_reply.started": "2023-07-12T16:58:50.922789Z"
    },
    "tags": []
   },
   "outputs": [],
   "source": [
    "sc.list_packages()"
   ]
  },
  {
   "cell_type": "code",
   "execution_count": null,
   "id": "2be81d8b-cd7b-4e39-b35b-5e7a2dedbfd9",
   "metadata": {
    "execution": {
     "iopub.execute_input": "2023-07-12T16:58:51.686388Z",
     "iopub.status.busy": "2023-07-12T16:58:51.686044Z",
     "iopub.status.idle": "2023-07-12T16:58:52.449939Z",
     "shell.execute_reply": "2023-07-12T16:58:52.448959Z",
     "shell.execute_reply.started": "2023-07-12T16:58:51.686349Z"
    },
    "tags": []
   },
   "outputs": [],
   "source": [
    "from pyspark.sql.types import DateType, FloatType, IntegerType, StructField, StructType\n",
    "from pyspark.sql import SparkSession\n",
    "from statsmodels.tsa.arima.model import ARIMA\n",
    "import logging\n",
    "import pandas as pd\n",
    "from pyspark.sql.functions import current_date"
   ]
  },
  {
   "cell_type": "code",
   "execution_count": null,
   "id": "01f3ead0-6bc2-40d7-891a-1850807f231e",
   "metadata": {
    "execution": {
     "iopub.execute_input": "2023-07-12T16:58:52.451876Z",
     "iopub.status.busy": "2023-07-12T16:58:52.451373Z",
     "iopub.status.idle": "2023-07-12T16:58:52.513100Z",
     "shell.execute_reply": "2023-07-12T16:58:52.512100Z",
     "shell.execute_reply.started": "2023-07-12T16:58:52.451837Z"
    }
   },
   "outputs": [],
   "source": [
    "import os\n",
    "import sys\n",
    "\n",
    "os.environ['PYSPARK_PYTHON'] = sys.executable\n",
    "os.environ['PYSPARK_DRIVER_PYTHON'] = sys.executable"
   ]
  },
  {
   "cell_type": "code",
   "execution_count": null,
   "id": "c0ff7a14-b718-46c8-8f29-cf521dadba06",
   "metadata": {
    "execution": {
     "iopub.execute_input": "2023-07-12T16:58:52.515081Z",
     "iopub.status.busy": "2023-07-12T16:58:52.514467Z",
     "iopub.status.idle": "2023-07-12T16:58:52.594171Z",
     "shell.execute_reply": "2023-07-12T16:58:52.592968Z",
     "shell.execute_reply.started": "2023-07-12T16:58:52.515042Z"
    }
   },
   "outputs": [],
   "source": [
    "spark.conf.set(\"spark.sql.execution.arrow.pyspark.enabled\", \"true\")"
   ]
  },
  {
   "cell_type": "code",
   "execution_count": null,
   "id": "e3536da0-f990-4a3b-98ed-0ad4278bef93",
   "metadata": {
    "execution": {
     "iopub.execute_input": "2023-07-12T16:58:52.597730Z",
     "iopub.status.busy": "2023-07-12T16:58:52.597381Z",
     "iopub.status.idle": "2023-07-12T16:58:52.652310Z",
     "shell.execute_reply": "2023-07-12T16:58:52.651594Z",
     "shell.execute_reply.started": "2023-07-12T16:58:52.597692Z"
    }
   },
   "outputs": [],
   "source": [
    "# Create a Spark session\n",
    "spark = SparkSession.builder.master(\"yarn\").getOrCreate()"
   ]
  },
  {
   "cell_type": "code",
   "execution_count": null,
   "id": "e7114976-291d-4bed-a8c6-0df225d23f93",
   "metadata": {
    "execution": {
     "iopub.execute_input": "2023-07-12T16:58:52.654605Z",
     "iopub.status.busy": "2023-07-12T16:58:52.654379Z",
     "iopub.status.idle": "2023-07-12T16:58:52.709548Z",
     "shell.execute_reply": "2023-07-12T16:58:52.708635Z",
     "shell.execute_reply.started": "2023-07-12T16:58:52.654583Z"
    },
    "tags": []
   },
   "outputs": [],
   "source": [
    "# read the training file into a dataframe from S3 bucket\n",
    "s3_path = \"s3://my-sales-data-storage/Sales.csv\"\n",
    "train_schema = StructType([\n",
    "    StructField('date', DateType()),\n",
    "    StructField('store', IntegerType()),\n",
    "    StructField('item', IntegerType()),\n",
    "    StructField('sales', IntegerType())\n",
    "])"
   ]
  },
  {
   "cell_type": "code",
   "execution_count": null,
   "id": "bdab4454-3892-4ace-9409-c83f46bb9240",
   "metadata": {
    "execution": {
     "iopub.execute_input": "2023-07-12T16:58:52.711431Z",
     "iopub.status.busy": "2023-07-12T16:58:52.711115Z",
     "iopub.status.idle": "2023-07-12T16:58:55.995898Z",
     "shell.execute_reply": "2023-07-12T16:58:55.995139Z",
     "shell.execute_reply.started": "2023-07-12T16:58:52.711397Z"
    },
    "tags": []
   },
   "outputs": [],
   "source": [
    "train = spark.read.csv(s3_path, header=True, schema=train_schema)"
   ]
  },
  {
   "cell_type": "code",
   "execution_count": null,
   "id": "715a8a35-0d9d-4904-8d44-a133ee0d0372",
   "metadata": {
    "execution": {
     "iopub.execute_input": "2023-07-12T16:58:55.997177Z",
     "iopub.status.busy": "2023-07-12T16:58:55.996933Z",
     "iopub.status.idle": "2023-07-12T16:59:01.316479Z",
     "shell.execute_reply": "2023-07-12T16:59:01.315548Z",
     "shell.execute_reply.started": "2023-07-12T16:58:55.997154Z"
    }
   },
   "outputs": [],
   "source": [
    "train.show()"
   ]
  },
  {
   "cell_type": "code",
   "execution_count": null,
   "id": "bcb5e7b4-531d-4c79-8cec-8a95856607d3",
   "metadata": {
    "execution": {
     "iopub.execute_input": "2023-07-12T16:59:01.318239Z",
     "iopub.status.busy": "2023-07-12T16:59:01.317896Z",
     "iopub.status.idle": "2023-07-12T16:59:01.574477Z",
     "shell.execute_reply": "2023-07-12T16:59:01.573671Z",
     "shell.execute_reply.started": "2023-07-12T16:59:01.318201Z"
    }
   },
   "outputs": [],
   "source": [
    "# make the dataframe queriable as a temporary view\n",
    "train.createOrReplaceTempView('train') \n",
    "\n",
    "\n",
    "#Retrieve Data for All Store-Item Combinations\n",
    "sql_statement = '''\n",
    "  SELECT\n",
    "    store,\n",
    "    item,\n",
    "    CAST(date as date) as ds,\n",
    "    SUM(sales) as y\n",
    "  FROM train\n",
    "  GROUP BY store, item, ds\n",
    "  ORDER BY store, item, ds\n",
    "  '''"
   ]
  },
  {
   "cell_type": "code",
   "execution_count": null,
   "id": "4f188a6c-4384-404a-8178-a69054db520b",
   "metadata": {
    "execution": {
     "iopub.execute_input": "2023-07-12T16:59:01.575725Z",
     "iopub.status.busy": "2023-07-12T16:59:01.575469Z",
     "iopub.status.idle": "2023-07-12T16:59:02.361729Z",
     "shell.execute_reply": "2023-07-12T16:59:02.360932Z",
     "shell.execute_reply.started": "2023-07-12T16:59:01.575701Z"
    }
   },
   "outputs": [],
   "source": [
    "# Run SQL statement and cache the result\n",
    "store_item_history = (\n",
    "  spark\n",
    "    .sql( sql_statement )\n",
    "    .repartition(sc.defaultParallelism, ['store', 'item'])\n",
    "  ).cache()"
   ]
  },
  {
   "cell_type": "code",
   "execution_count": null,
   "id": "412a3c4f-e55b-4913-83da-60093b7de0ca",
   "metadata": {
    "execution": {
     "iopub.execute_input": "2023-07-12T16:59:02.363220Z",
     "iopub.status.busy": "2023-07-12T16:59:02.362872Z",
     "iopub.status.idle": "2023-07-12T16:59:02.421558Z",
     "shell.execute_reply": "2023-07-12T16:59:02.420760Z",
     "shell.execute_reply.started": "2023-07-12T16:59:02.363167Z"
    }
   },
   "outputs": [],
   "source": [
    "#Define Result Schema\n",
    "result_schema =StructType([\n",
    "  StructField('ds',DateType()),\n",
    "  StructField('store',IntegerType()),\n",
    "  StructField('item',IntegerType()),\n",
    "  StructField('y',FloatType()),\n",
    "  StructField('yhat',FloatType()),\n",
    "  StructField('yhat_upper',FloatType()),\n",
    "  StructField('yhat_lower',FloatType())\n",
    "  ])"
   ]
  },
  {
   "cell_type": "code",
   "execution_count": null,
   "id": "61e6d12b-0aa0-480d-a33e-ffe9363d5d44",
   "metadata": {
    "execution": {
     "iopub.execute_input": "2023-07-12T16:59:02.423242Z",
     "iopub.status.busy": "2023-07-12T16:59:02.422905Z",
     "iopub.status.idle": "2023-07-12T16:59:02.475233Z",
     "shell.execute_reply": "2023-07-12T16:59:02.474552Z",
     "shell.execute_reply.started": "2023-07-12T16:59:02.423205Z"
    }
   },
   "outputs": [],
   "source": [
    "# Define Function to Train Model & Generate Forecast\n",
    "def forecast_store_item(history_pd: pd.DataFrame) -> pd.DataFrame:\n",
    "    # TRAIN MODEL AS BEFORE\n",
    "    # --------------------------------------\n",
    "    # remove missing values (more likely at day-store-item level)\n",
    "    history_pd = history_pd.dropna()\n",
    "\n",
    "    # configure the model\n",
    "    model = ARIMA(history_pd['y'], order=(1, 0, 0))\n",
    "\n",
    "    # train the model\n",
    "    model_fit = model.fit(disp=False)\n",
    "    # --------------------------------------\n",
    "\n",
    "    # BUILD FORECAST AS BEFORE\n",
    "    # --------------------------------------\n",
    "    # make predictions\n",
    "    forecast_pd = model_fit.predict(start=len(history_pd), end=len(history_pd) + 89)\n",
    "    # --------------------------------------\n",
    "\n",
    "    # ASSEMBLE EXPECTED RESULT SET\n",
    "    # --------------------------------------\n",
    "    # get relevant fields from forecast\n",
    "    f_pd = pd.DataFrame({\n",
    "        'ds': pd.date_range(start=history_pd['ds'].max() + pd.DateOffset(days=1), periods=90),\n",
    "        'yhat': forecast_pd,\n",
    "        'yhat_upper': forecast_pd,\n",
    "        'yhat_lower': forecast_pd\n",
    "    })\n",
    "\n",
    "    # get relevant fields from history\n",
    "    h_pd = history_pd[['ds', 'store', 'item', 'y']]\n",
    "\n",
    "    # join history and forecast\n",
    "    results_pd = f_pd.join(h_pd, how='left')\n",
    "    results_pd.reset_index(drop=True, inplace=True)\n",
    "\n",
    "    # get store & item from incoming data set\n",
    "    results_pd['store'] = history_pd['store'].iloc[0]\n",
    "    results_pd['item'] = history_pd['item'].iloc[0]\n",
    "    # --------------------------------------\n",
    "\n",
    "    # return expected dataset\n",
    "    return results_pd[['ds', 'store', 'item', 'y', 'yhat', 'yhat_upper', 'yhat_lower']]\n",
    "\n"
   ]
  },
  {
   "cell_type": "code",
   "execution_count": null,
   "id": "28c97277-9f2b-4afb-8098-1cd361bf4903",
   "metadata": {
    "execution": {
     "iopub.execute_input": "2023-07-12T16:59:02.476727Z",
     "iopub.status.busy": "2023-07-12T16:59:02.476262Z",
     "iopub.status.idle": "2023-07-12T16:59:02.730109Z",
     "shell.execute_reply": "2023-07-12T16:59:02.729355Z",
     "shell.execute_reply.started": "2023-07-12T16:59:02.476700Z"
    }
   },
   "outputs": [],
   "source": [
    "# Apply Forecast Function to Each Store-Item Combination\n",
    "results = (\n",
    "    store_item_history\n",
    "    .groupBy('store', 'item')\n",
    "    .applyInPandas(forecast_store_item, schema=result_schema)\n",
    "    .withColumn('training_date', current_date())\n",
    ")\n"
   ]
  },
  {
   "cell_type": "code",
   "execution_count": null,
   "id": "b3f5858e-e9e1-4ce9-a55c-c9eaff789801",
   "metadata": {
    "execution": {
     "iopub.execute_input": "2023-07-12T16:59:02.731373Z",
     "iopub.status.busy": "2023-07-12T16:59:02.731142Z",
     "iopub.status.idle": "2023-07-12T16:59:14.059202Z",
     "shell.execute_reply": "2023-07-12T16:59:14.058296Z",
     "shell.execute_reply.started": "2023-07-12T16:59:02.731349Z"
    },
    "tags": []
   },
   "outputs": [],
   "source": [
    "results.show(10)"
   ]
  },
  {
   "cell_type": "code",
   "execution_count": null,
   "id": "ee12e268-6e41-4838-a5b2-7b485b3d79ba",
   "metadata": {
    "execution": {
     "iopub.execute_input": "2023-07-12T16:59:14.060511Z",
     "iopub.status.busy": "2023-07-12T16:59:14.060223Z",
     "iopub.status.idle": "2023-07-12T16:59:14.109957Z",
     "shell.execute_reply": "2023-07-12T16:59:14.109216Z",
     "shell.execute_reply.started": "2023-07-12T16:59:14.060485Z"
    }
   },
   "outputs": [],
   "source": [
    "results.to_csv('result.csv', index=False)"
   ]
  },
  {
   "cell_type": "code",
   "execution_count": null,
   "id": "8d728a9c-35a5-4ea3-8fce-141a3767a721",
   "metadata": {
    "execution": {
     "iopub.execute_input": "2023-07-12T16:59:14.111223Z",
     "iopub.status.busy": "2023-07-12T16:59:14.110986Z",
     "iopub.status.idle": "2023-07-12T16:59:17.389865Z",
     "shell.execute_reply": "2023-07-12T16:59:17.389133Z",
     "shell.execute_reply.started": "2023-07-12T16:59:14.111200Z"
    }
   },
   "outputs": [],
   "source": [
    "# Write the predictions to Redshift\n",
    "jdbc_url = \"jdbc:redshift://default-workgroup.572561648008.ap-south-1.redshift-serverless.amazonaws.com:5439/sales-forecast\"\n",
    "jdbc_properties = {\n",
    "    \"user\": \"admin\",\n",
    "    \"password\": \"Password\",\n",
    "    \"driver\": \"com.amazon.redshift.jdbc.Driver\"\n",
    "}\n",
    "results.write \\\n",
    "    .format(\"jdbc\") \\\n",
    "    .option(\"url\", jdbc_url) \\\n",
    "    .option(\"dbtable\", \"predictions\") \\\n",
    "    .options(**jdbc_properties) \\\n",
    "    .mode(\"append\") \\\n",
    "    .save()"
   ]
  },
  {
   "cell_type": "code",
   "execution_count": null,
   "id": "b6f6c515-427f-42a5-b783-1e096286679c",
   "metadata": {
    "execution": {
     "iopub.execute_input": "2023-07-12T16:59:17.391239Z",
     "iopub.status.busy": "2023-07-12T16:59:17.390997Z",
     "iopub.status.idle": "2023-07-12T16:59:18.157528Z",
     "shell.execute_reply": "2023-07-12T16:59:18.156762Z",
     "shell.execute_reply.started": "2023-07-12T16:59:17.391215Z"
    },
    "tags": []
   },
   "outputs": [],
   "source": [
    "# Stop the Spark session\n",
    "spark.stop()"
   ]
  }
 ],
 "metadata": {
  "kernelspec": {
   "display_name": "Python 3",
   "language": "python",
   "name": "python3"
  },
  "language_info": {
   "codemirror_mode": {
    "name": "python",
    "version": 3
   },
   "file_extension": ".py",
   "mimetype": "text/x-python",
   "name": "python",
   "pygments_lexer": "python3",
   "version": "3.9.6"
  },
  "vscode": {
   "interpreter": {
    "hash": "31f2aee4e71d21fbe5cf8b01ff0e069b9275f58929596ceb00d14d90e3e16cd6"
   }
  }
 },
 "nbformat": 4,
 "nbformat_minor": 5
}
